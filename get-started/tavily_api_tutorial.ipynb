{
 "cells": [
  {
   "cell_type": "markdown",
   "metadata": {},
   "source": [
    "# Tavily API: A Beginner's Guide with the Python Client\n",
    "\n",
    "Welcome to this comprehensive guide to the Tavily API! This notebook will walk you through all of Tavily's features using the official `tavily-python` client. We'll cover `Search`, `Extract`, `Crawl`, and `Map`, with clear explanations, code examples, and sample responses.\n",
    "\n",
    "Tavily is a search engine specifically designed for AI agents and LLMs (Large Language Models). It acts as a web access layer for AI systems, providing real-time, customizable, and RAG-ready search results.\n",
    "\n",
    "<img src='tavily_overview.png' alt='Search Flowchart' width='400'/>\n",
    "\n",
    "Agenda:\n",
    "- [Setup](#setup)\n",
    "- [Search](#search)\n",
    "- [Extract](#extract)\n",
    "- [Crawl](#crawl)\n",
    "- [Map](#map)\n",
    "- [Putting It All Together: An Autonomous Research Agent](#putting-it-all-together-an-autonomous-research-agent)\n"
   ]
  },
  {
   "cell_type": "markdown",
   "metadata": {},
   "source": [
    "## Setup\n",
    "\n",
    "First, make sure you have the `tavily-python` library installed. If not, you can install it via pip. We've already done this in our virtual environment.\n",
    "\n",
    "```\n",
    "pip install tavily-python\n",
    "```\n",
    "\n",
    "Next, you'll need to get your free API key from the [Tavily website](https://app.tavily.com/). Once you have your key, you can instantiate the client."
   ]
  },
  {
   "cell_type": "code",
   "execution_count": null,
   "metadata": {},
   "outputs": [],
   "source": [
    "from tavily import TavilyClient\n",
    "import json\n",
    "import os\n",
    "\n",
    "# It's recommended to set your API key as an environment variable\n",
    "# api_key = os.environ.get('TAVILY_API_KEY')\n",
    "# For this example, we will hardcode it. Replace 'tvly-YOUR_API_KEY' with your actual key.\n",
    "api_key = 'tvly-apikey'\n",
    "\n",
    "tavily = TavilyClient(api_key=api_key)"
   ]
  },
  {
   "cell_type": "markdown",
   "metadata": {},
   "source": [
    "## 1. Search (`/search` endpoint)\n",
    "\n",
    "The `search` method is Tavily's core feature, providing a powerful search engine optimized for AI agents and LLMs.\n",
    "\n",
    "### Parameters\n",
    "- `query` (required): The search query.\n",
    "- `search_depth`: `basic` or `advanced`. Advanced is more comprehensive.\n",
    "- `include_answer`: Whether to include a generated answer.\n",
    "- `include_images`: Whether to include relevant image URLs.\n",
    "- `include_raw_content`: Whether to include the raw HTML of search results.\n",
    "- `max_results`: The number of search results to return.\n",
    "- `include_domains`: A list of domains to search within.\n",
    "- `exclude_domains`: A list of domains to exclude.\n",
    "\n",
    "<details>\n",
    "<summary><b>🔍 View Search Flowchart</b></summary>\n",
    "<img src='search_flowchart.png' alt='Search Flowchart' width='1000'/>\n",
    "</details>"
   ]
  },
  {
   "cell_type": "code",
   "execution_count": 2,
   "metadata": {},
   "outputs": [
    {
     "name": "stdout",
     "output_type": "stream",
     "text": [
      "{\n",
      "  \"query\": \"Who won the last FIFA World Cup?\",\n",
      "  \"follow_up_questions\": null,\n",
      "  \"answer\": \"Argentina won the last FIFA World Cup in 2022. They defeated France in the final on penalties. This was Argentina's third title.\",\n",
      "  \"images\": [\n",
      "    \"https://i.ytimg.com/vi/fibjOtrH13U/maxresdefault.jpg\",\n",
      "    \"https://i.ytimg.com/vi/XmEFiSUWcZE/maxresdefault.jpg\",\n",
      "    \"https://i0.wp.com/www.neogol.com/wp-content/uploads/2022/12/LIST-FIFA-WORLD-CHAMPIONS-1.jpg\",\n",
      "    \"https://media.cnn.com/api/v1/images/stellar/prod/221219105607-messi-crowd-world-cup-121822.jpg?c=original&q=w_1280,c_fill\",\n",
      "    \"https://thesportshint.com/wp-content/uploads/2022/07/image-2.png\"\n",
      "  ],\n",
      "  \"results\": [\n",
      "    {\n",
      "      \"url\": \"https://en.wikipedia.org/wiki/FIFA_World_Cup\",\n",
      "      \"title\": \"FIFA World Cup - Wikipedia\",\n",
      "      \"content\": \"The FIFA World Cup, often called the World Cup, is an international association football competition among the senior men's national teams of the members of the F\\u00e9d\\u00e9ration Internationale de Football Association (FIFA), the sport's global governing body. The tournament has been held every four years since the inaugural tournament in 1930, with the exception of 1942 and 1946 due to the Second World War. The reigning champions are Argentina, who won their third title at the 2022 World Cup by [...] As of the 2022 World Cup, 22 final tournaments have been held since the event's inception in 1930, and a total of 80 national teams have competed. The trophy has been won by eight national teams. With five wins, Brazil is the only team to have played in every tournament. The other World Cup winners are Germany and Italy, with four titles each; Argentina, with three titles; France and inaugural winner Uruguay, each with two titles; and England and Spain, with one title each.\",\n",
      "      \"score\": 0.8719229,\n",
      "      \"raw_content\": null\n",
      "    },\n",
      "    {\n",
      "      \"url\": \"https://en.wikipedia.org/wiki/List_of_FIFA_World_Cup_finals\",\n",
      "      \"title\": \"List of FIFA World Cup finals - Wikipedia\",\n",
      "      \"content\": \"| Tournaments |  Uruguay 1930  Italy 1934  France 1938  Brazil 1950  Switzerland 1954  Sweden 1958  Chile 1962  England 1966  Mexico 1970  West Germany 1974  Argentina 1978  Spain 1982  Mexico 1986  Italy 1990  United States 1994  France 1998  South Korea / Japan 2002  Germany 2006  South Africa 2010  Brazil 2014  Russia 2018  Qatar 2022  _Canada / Mexico / United States 2026_  _Morocco / Portugal / Spain 2030_ 1  _Saudi Arabia 2034_ | [...] Current champion Argentina has three titles, Uruguay and France have two each, while England and Spain have one each. Czechoslovakia, Hungary, Sweden, the Netherlands and Croatia have played in the final without winning. Only teams from Europe (UEFA) and South America (CONMEBOL) have ever competed in the final. [...] | Image 86France | 2 | 2 | 4 | 1998, 2018 | 2006, 2022 |\\n| Image 87Uruguay | 2 | 0 | 2 | 1930, 1950 \\\"Uruguay v Brazil (1950 FIFA World Cup)\\\") | \\u2014 |\\n| Image 88England | 1 | 0 | 1 | 1966 | \\u2014 |\\n| Image 89Spain | 1 | 0 | 1 | 2010 | \\u2014 |\\n| Image 90Netherlands | 0 | 3 | 3 | \\u2014 | 1974, 1978, 2010 |\\n| Image 91Hungary | 0 | 2 | 2 | \\u2014 | 1938, 1954 |\\n| Image 92Czechoslovakia | 0 | 2 | 2 | \\u2014 | 1934, 1962 |\\n| Image 93Sweden | 0 | 1 | 1 | \\u2014 | 1958 |\\n| Image 94Croatia | 0 | 1 | 1 | \\u2014 | 2018 |\",\n",
      "      \"score\": 0.8412138,\n",
      "      \"raw_content\": null\n",
      "    },\n",
      "    {\n",
      "      \"url\": \"https://www.topendsports.com/events/worldcupsoccer/winners.htm\",\n",
      "      \"title\": \"FIFA World Cup Winners List - All Champions 1930-2022\",\n",
      "      \"content\": \"| 1958 Sweden | Brazil | Brazil 5-2 Sweden |\\n| 1954 Switzerland | Germany | Germany 3-2 Hungary |\\n| 1950 Brazil | Uruguay | Uruguay 2-1 Brazil |\\n| 1946 | not held |\\n| 1942 | not held |\\n| 1938 France | Italy | Italy 4-2 Hungary |\\n| 1934 Italy | Italy | Italy 2-1 Czechoslovakia |\\n| 1930 Uruguay | Uruguay | Uruguay 4-2 Argentina | [...] | Hosts | Winner | Score |\\n| --- | --- | --- |\\n| 2026 Nth America |  |  |\\n| 2022 Qatar | Argentina | 3-3, then Argentina defeated France 4-2 in penalties |\\n| 2018 Russia | France | France 4-2 Croatia |\\n| 2014 Brazil | Germany | Germany 1-0 Argentina |\\n| 2010 South Africa | Spain | Spain 1-0 Netherlands |\\n| 2006 Germany | Italy | 1-1, then Italy beat France 5-3 in penalties |\\n| 2002 Korea & Japan | Brazil | Brazil 2-0 Germany |\\n| 1998 France | France | France 3-0 Brazil | [...] | 1994 USA | Brazil | 0-0, then Brazil defeated Italy 3-2 in penalties |\\n| 1990 Italy | Germany | Germany 1-0 Argentina |\\n| 1986 Mexico | Argentina | Argentina 3-2 Germany |\\n| 1982 Spain | Italy | Italy 3-1 Germany |\\n| 1978 Argentina | Argentina | Argentina 3-1 Netherlands |\\n| 1974 Germany | Germany | Germany 2-1 Netherlands |\\n| 1970 Mexico | Brazil | Brazil 4-1 Italy |\\n| 1966 England | England | England 4-2 Germany |\\n| 1962 Chile | Brazil | Brazil 3-1 Czechoslovakia |\",\n",
      "      \"score\": 0.80844593,\n",
      "      \"raw_content\": null\n",
      "    }\n",
      "  ],\n",
      "  \"response_time\": 2.88,\n",
      "  \"request_id\": \"ceeb68d8-6ed5-4a6c-be3c-90ba71d321f8\"\n",
      "}\n"
     ]
    }
   ],
   "source": [
    "# Example: Advanced search with an answer and images\n",
    "# api.tavily.com/search\n",
    "search_result = tavily.search(\n",
    "    query=\"Who won the last FIFA World Cup?\",\n",
    "    search_depth=\"advanced\",\n",
    "    include_answer=True,\n",
    "    include_images=True,\n",
    "    max_results=3\n",
    ")\n",
    "\n",
    "print(json.dumps(search_result, indent=2))"
   ]
  },
  {
   "cell_type": "markdown",
   "metadata": {},
   "source": [
    "---"
   ]
  },
  {
   "cell_type": "markdown",
   "metadata": {},
   "source": [
    "## 2. Extract (`/extract` endpoint)\n",
    "\n",
    "The `extract` method allows you to get the main content from web pages.\n",
    "\n",
    "### Parameters\n",
    "- `urls` (required): A single URL or a list of up to 20 URLs.\n",
    "- `extract_depth`: `basic` or `advanced`. Advanced includes tables and embedded content.\n",
    "- `include_images`: Whether to include extracted images.\n",
    "\n",
    "<details>\n",
    "<summary><b>📄 View Extract Flowchart</b></summary>\n",
    "<img src='extract_flowchart.png' alt='Extract Flowchart' width='800'/>\n",
    "</details>"
   ]
  },
  {
   "cell_type": "code",
   "execution_count": null,
   "metadata": {},
   "outputs": [],
   "source": [
    "# Example: Extract content from a URL \n",
    "# Some websites may block content extraction. Here is an example URL that should work reliably.\n",
    "# api.tavily.com/extract\n",
    "\n",
    "urls_to_extract = [\n",
    "    'https://en.wikipedia.org/wiki/Artificial_intelligence'\n",
    "]\n",
    "extraction_result = tavily.extract(urls=urls_to_extract, include_images=True)\n",
    "\n",
    "print(json.dumps(extraction_result, indent=2))"
   ]
  },
  {
   "cell_type": "markdown",
   "metadata": {},
   "source": [
    "---"
   ]
  },
  {
   "cell_type": "markdown",
   "metadata": {},
   "source": [
    "## 3. Crawl (`/crawl` endpoint)\n",
    "\n",
    "The `crawl` method is a powerful, graph-based tool for traversing websites, tt can explore hundreds of paths in parallel with built-in extraction and intelligent discovery.\n",
    "\n",
    "### Parameters\n",
    "- `url` (required): The starting URL for the crawl.\n",
    "- `instructions`: Natural language guidance for the crawl.\n",
    "- `max_depth`: How many levels deep to crawl.\n",
    "- `max_breadth`: The number of pages to crawl at each level.\n",
    "- `limit`: The total maximum number of pages to crawl.\n",
    "- `select_paths`: Regex patterns for URLs to include.\n",
    "- `exclude_paths`: Regex patterns for URLs to exclude.\n",
    "\n",
    "<details>\n",
    "<summary><b>🕷️ View Crawl Flowchart</b></summary>\n",
    "<img src='crawl_flowchart.png' alt='Crawl Flowchart' width='1000'/>\n",
    "</details>\n"
   ]
  },
  {
   "cell_type": "code",
   "execution_count": null,
   "metadata": {},
   "outputs": [],
   "source": [
    "# Example: Crawl a documentation site for specific information\n",
    "# api.tavily.com/crawl\n",
    "crawl_result = tavily.crawl(\n",
    "    url=\"https://docs.tavily.com\",\n",
    "    instructions=\"Find all pages related to the Python SDK and API reference.\",\n",
    "    max_depth=2,       # Crawl 2 levels deep\n",
    "    limit=10           # Return a maximum of 10 pages\n",
    ")\n",
    "\n",
    "print(json.dumps(crawl_result, indent=2))"
   ]
  },
  {
   "cell_type": "markdown",
   "metadata": {},
   "source": [
    "---"
   ]
  },
  {
   "cell_type": "markdown",
   "metadata": {},
   "source": [
    "## 4. Map (`/map` endpoint)\n",
    "\n",
    "The `map` method generates a comprehensive sitemap by traversing a website. It's great for discovering the structure of a site before performing a targeted crawl.\n",
    "\n",
    "### Parameters\n",
    "- `url` (required): The base URL to map.\n",
    "- `max_depth`: How many levels deep to map.\n",
    "- `max_breadth`: The number of pages to explore at each level.\n",
    "- `limit`: The total maximum number of URLs to return.\n",
    "\n",
    "<details>\n",
    "<summary><b>🗺️ View Map Flowchart</b></summary>\n",
    "<img src='map_flowchart.png' alt='Map Flowchart' width='800'/>\n",
    "</details>"
   ]
  },
  {
   "cell_type": "code",
   "execution_count": 5,
   "metadata": {},
   "outputs": [
    {
     "name": "stdout",
     "output_type": "stream",
     "text": [
      "{\n",
      "  \"base_url\": \"https://docs.tavily.com\",\n",
      "  \"results\": [\n",
      "    \"https://docs.tavily.com/welcome\",\n",
      "    \"https://docs.tavily.com/documentation/api-credits\",\n",
      "    \"https://docs.tavily.com/documentation/about\",\n",
      "    \"https://docs.tavily.com/sdk/python/quick-start\",\n",
      "    \"https://docs.tavily.com/examples/use-cases/chat\",\n",
      "    \"https://docs.tavily.com/documentation/api-reference/endpoint/search\",\n",
      "    \"https://blog.tavily.com/\",\n",
      "    \"https://tavily.com/\",\n",
      "    \"https://app.tavily.com/playground\",\n",
      "    \"https://app.tavily.com/\",\n",
      "    \"https://community.tavily.com/\"\n",
      "  ],\n",
      "  \"response_time\": 0.37,\n",
      "  \"request_id\": \"ef1d1195-d3f6-4e3e-a98e-cf63a65910b6\"\n",
      "}\n"
     ]
    }
   ],
   "source": [
    "# Example: Generate a sitemap for a documentation website\n",
    "# api.tavily.com/map\n",
    "map_result = tavily.map(\n",
    "    url=\"https://docs.tavily.com\",\n",
    "    max_depth=1, # Map only the top level and one level down\n",
    "    limit=20     # Limit the output to 20 URLs\n",
    ")\n",
    "\n",
    "print(json.dumps(map_result, indent=2))"
   ]
  },
  {
   "cell_type": "markdown",
   "metadata": {},
   "source": [
    "---"
   ]
  },
  {
   "cell_type": "markdown",
   "metadata": {},
   "source": [
    "## Putting It All Together: An Autonomous Research Agent\n",
    "\n",
    "Now, let's build a more advanced, autonomous research agent. This agent will only require a single input query. It will then use Tavily to find the most relevant, up-to-date information online and then use a local Ollama model to synthesize a report.\n",
    "\n",
    "This demonstrates a powerful real-world use case: **enriching a local, private LLM with real-time, public information.**\n",
    "\n",
    "<details>\n",
    "<summary><b>🤖 View Agent Workflow</b></summary>\n",
    "<img src='agent_flowchart.png' alt='Agent Flowchart' width='1000'/>\n",
    "</details>\n",
    "\n",
    "### Prerequisites\n",
    "1. **Ollama Installed and Running**: Make sure you have [Ollama](https://ollama.com/) installed and a model pulled (e.g., `ollama run llama3`).\n",
    "2. **Ollama Python Library**: Install the Ollama Python client:\n",
    "   ```\n",
    "   pip install ollama\n",
    "   ```\n",
    "\n",
    "<details>\n",
    "<summary><b>🤖 View Agent Workflow</b></summary>\n",
    "<img src='agent_flowchart.png' alt='Agent Flowchart' width='1000'/>\n",
    "</details>"
   ]
  },
  {
   "cell_type": "code",
   "execution_count": 6,
   "metadata": {},
   "outputs": [
    {
     "name": "stdout",
     "output_type": "stream",
     "text": [
      "--- Starting Autonomous Research for: 'What were the key announcements from Apple's latest WWDC event?' ---\n",
      "\n",
      "Step 1: Finding the best information source with Tavily Search...\n",
      "Best source found: https://www.macrumors.com/roundup/wwdc/\n",
      "\n",
      "Step 2: Performing a deep-dive crawl on https://www.macrumors.com/roundup/wwdc/...\n",
      "\n",
      "Step 3: Synthesizing findings with local Ollama model...\n",
      "\n",
      "--- Research Report ---\n",
      "**Key Announcements from Apple's Latest WWDC Event**\n",
      "\n",
      "Based on the latest information available on MacRumors, here are the key announcements made during Apple's Worldwide Developers Conference (WWDC) event:\n",
      "\n",
      "1. **iOS 26 and iPadOS 18**: New operating system updates for iOS devices, bringing new features and improvements.\n",
      "2. **macOS 26 Tahoe and macOS Sequoia**: Upcoming updates to the Mac operating system, focusing on performance and security enhancements.\n",
      "3. **watchOS 11**: The latest update for Apple Watch, featuring improved performance and new watch faces.\n",
      "4. **visionOS 2**: An update to the visionOS operating system, designed specifically for Apple's augmented reality (AR) glasses.\n",
      "5. **Apple Pro Display XDR and Studio Display**: New display options for professionals, offering high-quality displays with advanced features.\n",
      "\n",
      "Please note that this report only includes information available on MacRumors at the time of my knowledge cutoff, and may not reflect the complete or final details of these announcements.\n",
      "\n",
      "--- Research Complete ---\n"
     ]
    }
   ],
   "source": [
    "import ollama\n",
    "from urllib.parse import urlparse\n",
    "\n",
    "def run_autonomous_research_agent(query):\n",
    "    \"\"\"\n",
    "    Runs an autonomous research agent that takes a query, finds the best information source,\n",
    "    and generates a report using a local LLM.\n",
    "    \"\"\"\n",
    "    print(f\"--- Starting Autonomous Research for: '{query}' ---\\n\")\n",
    "\n",
    "    # Step 1: Use Tavily Search to get a broad overview and find the best source.\n",
    "    # The 'search' endpoint is the entry point for our research.\n",
    "    print(\"Step 1: Finding the best information source with Tavily Search...\")\n",
    "    search_results = tavily.search(query=query, search_depth=\"advanced\")\n",
    "    \n",
    "    if not search_results['results']:\n",
    "        print(\"No search results found. Aborting.\")\n",
    "        return\n",
    "\n",
    "    # Automatically select the most relevant source to crawl.\n",
    "    best_source_url = search_results['results'][0]['url']\n",
    "    print(f\"Best source found: {best_source_url}\\n\")\n",
    "\n",
    "    # Step 2: Use Tavily Crawl for a targeted deep-dive into the best source.\n",
    "    # The 'crawl' endpoint lets us extract specific, relevant content.\n",
    "    print(f\"Step 2: Performing a deep-dive crawl on {best_source_url}...\")\n",
    "    crawl_results = tavily.crawl(\n",
    "        url=best_source_url,\n",
    "        instructions=f\"Focus on the main content that directly addresses the query: '{query}'.\",\n",
    "        limit=5  # Limit to 5 pages to keep it focused\n",
    "    )\n",
    "    \n",
    "    # Combine all the gathered content.\n",
    "    all_content = \"\\n\\n\".join([res['raw_content'] for res in crawl_results['results']])\n",
    "    if not all_content:\n",
    "        print(\"Could not extract content from the source. Using initial search results for summary.\")\n",
    "        all_content = \"\\n\\n\".join([res['content'] for res in search_results['results']])\n",
    "\n",
    "\n",
    "    # Step 3: Use Ollama to synthesize the findings into a report.\n",
    "    # This prompt highlights why Tavily is essential—the LLM's knowledge is not real-time.\n",
    "    print(\"\\nStep 3: Synthesizing findings with local Ollama model...\")\n",
    "    try:\n",
    "        ollama_response = ollama.chat(\n",
    "            model='llama3',  # Or any other model you have pulled\n",
    "            messages=[\n",
    "                {\n",
    "                    'role': 'system',\n",
    "                    'content': 'You are a research assistant. Your task is to write a concise report based *only* on the provided real-time web search results.'\n",
    "                },\n",
    "                {\n",
    "                    'role': 'user',\n",
    "                    'content': f\"My internal knowledge is outdated. Please generate a report on the topic '{query}' using only the following up-to-date information:\\n\\n---\\n{all_content[:8000]}\"\n",
    "                },\n",
    "            ],\n",
    "        )\n",
    "        print(\"\\n--- Research Report ---\")\n",
    "        print(ollama_response['message']['content'])\n",
    "    except Exception as e:\n",
    "        print(f\"\\nCould not connect to Ollama. Please ensure it's running. Error: {e}\")\n",
    "\n",
    "    print(\"\\n--- Research Complete ---\")\n",
    "\n",
    "# --- Run the Autonomous Agent ---\n",
    "# Let's use a query that requires very recent information that a local LLM wouldn't have.\n",
    "research_query = \"What were the key announcements from Apple's latest WWDC event?\"\n",
    "run_autonomous_research_agent(research_query)"
   ]
  },
  {
   "cell_type": "markdown",
   "metadata": {},
   "source": [
    "---"
   ]
  }
 ],
 "metadata": {
  "kernelspec": {
   "display_name": "venv",
   "language": "python",
   "name": "python3"
  },
  "language_info": {
   "codemirror_mode": {
    "name": "ipython",
    "version": 3
   },
   "file_extension": ".py",
   "mimetype": "text/x-python",
   "name": "python",
   "nbconvert_exporter": "python",
   "pygments_lexer": "ipython3",
   "version": "3.13.5"
  }
 },
 "nbformat": 4,
 "nbformat_minor": 4
}
